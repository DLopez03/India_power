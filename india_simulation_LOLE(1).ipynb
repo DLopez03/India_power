{
 "cells": [
  {
   "cell_type": "code",
   "execution_count": 2,
   "id": "4eaf9b39-c930-4b6f-b775-fdf2ab7e0a95",
   "metadata": {},
   "outputs": [],
   "source": [
    "import logging, netCDF4, pickle, os, glob\n",
    "\n",
    "import numpy as np \n",
    "import matplotlib.pyplot as plt\n",
    "import pandas as pd\n",
    "\n",
    "import shapely.geometry as sg\n",
    "import geopandas as gpd \n",
    "from shapely.ops import cascaded_union\n",
    "\n",
    "logging.basicConfig(level = logging.INFO)\n",
    "\n",
    "# Change Paths to your computer!\n",
    "path_data   = r'/Users/dlopez/Desktop/india_power/Software/'\n",
    "path_images = r'/Users/dlopez/Desktop/india_power/Images/'"
   ]
  },
  {
   "cell_type": "code",
   "execution_count": null,
   "id": "c6e5c382-68fd-46e9-8a28-c05a7b64e068",
   "metadata": {},
   "outputs": [],
   "source": []
  },
  {
   "cell_type": "code",
   "execution_count": null,
   "id": "69a86c31-c1a7-46a6-b5b0-f34efad61866",
   "metadata": {},
   "outputs": [],
   "source": []
  },
  {
   "cell_type": "code",
   "execution_count": 4,
   "id": "855da4e7-6953-4b42-85e4-471b8eb1015f",
   "metadata": {},
   "outputs": [
    {
     "name": "stdout",
     "output_type": "stream",
     "text": [
      "(566,) (566,) (566,) (566,) (566,)\n",
      "(311,) (311,) (311,) (311,) (311,)\n",
      "(566, 8760, 18) (311, 8760, 18)\n",
      "(566,) (311,)\n"
     ]
    }
   ],
   "source": [
    "with open(path_data + r'india_power_dataset.pkl', 'rb') as _file:\n",
    "    load_, mapre_, capacity_ = pickle.load(_file)\n",
    "    L_, time_                = load_  \n",
    "    S_proj_, W_proj_         = mapre_\n",
    "    S_cf_, W_cf_             = capacity_\n",
    "    \n",
    "s_np_, s_names_, s_lon_, s_lat_, s_area_ = S_proj_\n",
    "w_np_, w_names_, w_lon_, w_lat_, w_area_ = W_proj_\n",
    "print(s_np_.shape, s_names_.shape, s_lon_.shape, s_lat_.shape, s_area_.shape)\n",
    "print(w_np_.shape, w_names_.shape, w_lon_.shape, w_lat_.shape, w_area_.shape)\n",
    "\n",
    "# Remove leap years - bad processing in winter\n",
    "#S_cf_ = np.delete(S_cf_, [0, 4, 8, 12], axis = 2)\n",
    "#W_cf_ = np.delete(W_cf_, [0, 4, 8, 12], axis = 2)\n",
    "print(S_cf_.shape, W_cf_.shape)\n",
    "\n",
    "s_cf_ = np.mean(np.mean(S_cf_, axis = 1), axis = 1)\n",
    "w_cf_ = np.mean(np.mean(W_cf_, axis = 1), axis = 1)\n",
    "print(s_cf_.shape, w_cf_.shape)"
   ]
  },
  {
   "cell_type": "markdown",
   "id": "b9e4d18a-4f4c-4f67-87f6-5306491bc1b0",
   "metadata": {},
   "source": [
    "Energy demand in India, repated and reshaped to match the 18 years of generation."
   ]
  },
  {
   "cell_type": "code",
   "execution_count": 5,
   "id": "7d53164f-1e09-498d-adce-c003c61ec9dd",
   "metadata": {},
   "outputs": [
    {
     "name": "stdout",
     "output_type": "stream",
     "text": [
      "(8760, 1) (8760, 18)\n",
      "[2259974025]\n",
      "(8760, 18)\n"
     ]
    }
   ],
   "source": [
    "N_days   = 365 \n",
    "N_hours  = 24\n",
    "N_years  = W_cf_.shape[-1]\n",
    "N_states = L_.shape[-1]\n",
    "# hourly energy demand in India\n",
    "l_          = np.sum(L_ , axis = 1)[:, np.newaxis]\n",
    "L_repeated_ = np.repeat(l_, N_years, axis = 1)\n",
    "print(l_.shape, L_repeated_.shape)\n",
    "\n",
    "# Total energy demand of India\n",
    "L = np.sum(l_, axis = 0) \n",
    "print(L)\n",
    "\n",
    "# Daily Total energy demand of India\n",
    "L_reshaped_ = L_.reshape(N_days, N_hours, N_states) \n",
    "#L_daily_    = np.sum(np.sum(L_reshaped_,axis = 2) , axis = 1)[:,np.newaxis]\n",
    "print(L_repeated_.shape)"
   ]
  },
  {
   "cell_type": "markdown",
   "id": "b3e972e8-2be6-45b6-862f-1f417138c7fd",
   "metadata": {},
   "source": [
    "Energy generate for each potential renewable energy zone for each hour of the 18 years available.\n",
    "* Solar energy generation per solar zone\n",
    "* Wind energy generation per wind zone"
   ]
  },
  {
   "cell_type": "code",
   "execution_count": 6,
   "id": "0be6a9a8-4035-468f-b47e-0d4f51a8b879",
   "metadata": {},
   "outputs": [
    {
     "name": "stdout",
     "output_type": "stream",
     "text": [
      "(566, 8760, 18) (566, 8760, 18)\n",
      "(311, 8760, 18) (311, 8760, 18)\n"
     ]
    }
   ],
   "source": [
    "S_np_prime_ = np.repeat(s_np_[..., np.newaxis], N_hours*N_days, axis = 1)\n",
    "S_np_       = np.repeat(S_np_prime_[..., np.newaxis], N_years, axis = 2)\n",
    "W_np_prime_ = np.repeat(w_np_[..., np.newaxis], N_hours*N_days, axis = 1)\n",
    "W_np_       = np.repeat(W_np_prime_[..., np.newaxis], N_years, axis = 2)\n",
    "\n",
    "# Number of renewable energy zones\n",
    "N_s_zones = s_np_.shape[0]\n",
    "N_w_zones = w_np_.shape[0]\n",
    "\n",
    "# Energy Generation Solar System\n",
    "E_s_ = S_np_ * S_cf_\n",
    "print(E_s_.shape, S_cf_.shape)\n",
    "\n",
    "# Energy Generation Wind System\n",
    "E_w_ = W_np_ * W_cf_\n",
    "print(E_w_.shape, W_cf_.shape)"
   ]
  },
  {
   "cell_type": "markdown",
   "id": "08038f68-94b0-4a5b-9d49-10463f7adac4",
   "metadata": {},
   "source": [
    "Function to define storage capacity for the simulation:\n",
    "* b stands for batteries (SDS).\n",
    "* h stands for hydrogen (LDS).\n",
    "* $\\rho$ is the system efficiency.\n",
    "* $\\eta$ self-distarge rate.\n",
    "* $\\beta$ combustible mixing ratio LDS)."
   ]
  },
  {
   "cell_type": "code",
   "execution_count": 7,
   "id": "2c7b3650-233e-4343-b25c-cbbe97018829",
   "metadata": {},
   "outputs": [],
   "source": [
    "# Run-Trip Efficiency\n",
    "b_rho = 0.9\n",
    "h_rho = 0.49\n",
    "\n",
    "# Self-Discharge Rate\n",
    "b_eta = .99998656 #.99/(365*24)\n",
    "h_eta = .99999342 #.9999/(365*24)\n",
    "\n",
    "# Mixing Ratio\n",
    "b_beta = 1.\n",
    "h_beta = .5\n",
    "\n",
    "# Leave system paramters in format for simulation function\n",
    "rho_, eta_, beta_  = [b_rho, h_rho], [b_eta, h_eta], [b_beta, h_beta]"
   ]
  },
  {
   "cell_type": "markdown",
   "id": "7c8286eb-e01d-4333-8fd0-b214a3ae82f0",
   "metadata": {},
   "source": [
    "Cost of the system (ATB report from NREL):\n",
    "* (ins) project building cost per nameplate capacity\n",
    "* (onm) O&M cost per nameplate capacity and year of operation \n",
    "* (lc) project lifecycle (lc)\n",
    "* (c) total cost of the project"
   ]
  },
  {
   "cell_type": "code",
   "execution_count": 8,
   "id": "3616189c-ad9a-451c-a606-e5cc82cce708",
   "metadata": {},
   "outputs": [],
   "source": [
    "# Solar Project Cost\n",
    "p_ins_solar = 2105.\n",
    "p_onm_solar = 22.02\n",
    "lc_solar    = 30.\n",
    "c_s_ins     = p_ins_solar + p_onm_solar*lc_solar\n",
    "\n",
    "# Wind Project Cost\n",
    "p_ins_wind  = 1657\n",
    "p_onm_wind  = 47.47\n",
    "lc_wind     = 30.\n",
    "c_w_ins     = p_ins_wind + p_onm_wind*lc_wind\n",
    "renewable_  = [c_s_ins, c_w_ins]\n",
    "\n",
    "# Battery Project Cost\n",
    "p_ins_b_io = 1568\n",
    "p_onm_b    = 0.\n",
    "e_ins_b    = 261\n",
    "lc_b       = 10.\n",
    "c_b_ins_io = p_ins_b_io + p_onm_b*lc_b\n",
    "battery_   = [3.*e_ins_b, 3.*c_b_ins_io]\n",
    "\n",
    "# Hydrogen Project Cost\n",
    "p_ins_h_i = 1058\n",
    "p_ins_h_o = 5854\n",
    "p_onm_h   = 0.\n",
    "e_ins_h   = .16\n",
    "lc_h      = 30.\n",
    "c_h_ins_i = p_ins_h_i + p_onm_h*lc_h\n",
    "c_h_ins_o = p_ins_h_o + p_onm_h*lc_h\n",
    "hydrogen_ = [e_ins_h, c_h_ins_i, c_h_ins_o]\n",
    "\n",
    "# System Costs Set\n",
    "costs_ = [renewable_, battery_, hydrogen_]"
   ]
  },
  {
   "cell_type": "markdown",
   "id": "e419e818-6eaa-4e88-bdf1-9c8d7bcaf05d",
   "metadata": {},
   "source": [
    "Load system simulation functions\n",
    "* _storage_model: charge and discharge of storage units during simulations\n",
    "* _eval_system_cost: estimate cost of the system given a set of parameters\n",
    "* _storage_capacity: as a function of the average demand of energy in India\n",
    "* _simulate_scenario: simulate the operation of the system for the given number of years"
   ]
  },
  {
   "cell_type": "code",
   "execution_count": 110,
   "id": "f626a32d-9551-41a6-98f0-a0e7e23b8917",
   "metadata": {},
   "outputs": [],
   "source": [
    "# Piecewise Storage Dispatch and Charge Model\n",
    "def _storage_model(L_net, SOC, Pr_i, Pr_o, Cap, rho, eta, beta): \n",
    "    \n",
    "    # Storage To Power\n",
    "    def __discarge(L_net, SOC, rho, beta):\n",
    "        # Is there Energy for dispatching All Energy necessary?\n",
    "        E_dispatched = (beta*abs(L_net))/rho\n",
    "        # Dispatch necessary\n",
    "        if E_dispatched <= SOC: \n",
    "            SOC -= E_dispatched\n",
    "        # If Not Dispatch all what is available\n",
    "        else:\n",
    "            E_dispatched = SOC \n",
    "            SOC          = 0.\n",
    "        return (E_dispatched*rho)/beta, SOC \n",
    "    \n",
    "    # Power To Storage\n",
    "    def __charge(L_net, SOC, Cap):\n",
    "        # Is there Capacity for Storing All Energy?\n",
    "        E_charged = abs(L_net)\n",
    "        # Store Necessary\n",
    "        if (SOC + E_charged) <= Cap:\n",
    "            SOC += E_charged \n",
    "        # If not Store all what is possible\n",
    "        else:\n",
    "            E_charged = Cap - SOC \n",
    "            SOC       = Cap         \n",
    "        return E_charged, SOC\n",
    "    \n",
    "    # Hourly Discharge Rate\n",
    "    SOC *= eta\n",
    "\n",
    "    # Shedding Event\n",
    "    if L_net > 0.:\n",
    "        \n",
    "        # Limit Dispatch to the Rated Power\n",
    "        if abs(L_net) > Pr_o:\n",
    "            E_o = Pr_o\n",
    "        else:\n",
    "            E_o = L_net\n",
    "        \n",
    "        E_dispatched, SOC_star = __discarge(E_o, SOC, rho, beta) \n",
    "        return L_net - E_dispatched, SOC_star, - E_dispatched/Pr_o\n",
    "    \n",
    "    # Balanced Event\n",
    "    if L_net == 0.: \n",
    "        return L_net, SOC, 0.\n",
    "    \n",
    "    # Curtailment Event\n",
    "    if L_net < 0.:\n",
    "        \n",
    "        # Limit Charging to the Rated Power\n",
    "        if abs(L_net) > Pr_i:\n",
    "            E_i = Pr_i\n",
    "        else:\n",
    "            E_i = L_net\n",
    "            \n",
    "        E_charged, SOC_star = __charge(E_i, SOC, Cap)\n",
    "        return L_net + E_charged, SOC_star, E_charged/Pr_i\n",
    "\n",
    "# Compute the cost of the system configuration\n",
    "def _eval_system_cost(costs_, params_):\n",
    "    # Unpack Costs Per Energy Source\n",
    "    renewable_, battery_, hidrogen_ = costs_\n",
    "    c_s_ins, c_w_ins                = renewable_\n",
    "    e_ins_b, c_b_ins_io             = battery_\n",
    "    e_ins_h, c_h_ins_i, c_h_ins_o   = hidrogen_\n",
    "    \n",
    "    # Unpack Desgined System Parameters Per Energy Source\n",
    "    renewable_, battery_, hidrogen_ = params_\n",
    "    P_s_ins, P_w_ins                = renewable_\n",
    "    E_b_Cap, P_b_ins_i, P_b_ins_o   = battery_\n",
    "    E_h_Cap, P_h_ins_i, P_h_ins_o   = hidrogen_\n",
    "\n",
    "    # Compute Cost per Energy Source\n",
    "    C_s = P_s_ins*c_s_ins\n",
    "    C_w = P_w_ins*c_w_ins\n",
    "    \n",
    "    if E_b_Cap == 0.: \n",
    "        C_b = 0.\n",
    "    else:\n",
    "        C_b = E_b_Cap*e_ins_b + c_b_ins_io*(P_b_ins_i + P_b_ins_o)/2.\n",
    "        \n",
    "    if E_h_Cap == 0.: \n",
    "        C_h = 0.\n",
    "    else:\n",
    "        C_h = E_h_Cap*e_ins_h + c_h_ins_i*P_h_ins_i + c_h_ins_o*P_h_ins_o\n",
    "    \n",
    "    # Compute Total System Cost\n",
    "    return C_s + C_w + 3.*C_b + C_h\n",
    "\n",
    "# Define Storage Sources\n",
    "def _storage_capacity(l_, b_Cap, h_Cap, h_cr = 2., h_dr = 1.):\n",
    "    \n",
    "    # Power Rate Battery Bank\n",
    "    b_Pr_i = 1.*(l_.sum()/l_.shape[0])\n",
    "    b_Pr_o = 1.*(l_.sum()/l_.shape[0])\n",
    "    #print(b_Pr_i, b_Pr_o)\n",
    "\n",
    "    # Power Rate Hydrogen Electrolizer / Turbines\n",
    "    h_Pr_i = h_cr*(l_.sum()/l_.shape[0])\n",
    "    h_Pr_o = h_dr*(l_.sum()/l_.shape[0])\n",
    "    #print(h_Pr_i, h_Pr_o)\n",
    "\n",
    "    # Battery Back Capaticity\n",
    "    b_Cap = b_Cap*b_Pr_o\n",
    "\n",
    "    # Hydrogen Back Capaticity\n",
    "    h_Cap = 24*h_Cap*h_Pr_o\n",
    "    \n",
    "    return [b_Pr_i, h_Pr_i], [b_Pr_o, h_Pr_o], [b_Cap, h_Cap]\n",
    "\n",
    "# Simulate Energy System Operation\n",
    "def _simulate_scenario(s_alpha_, w_alpha_, params_):\n",
    "    \n",
    "    # Unpack System Parameters\n",
    "    energy_, storage_                     = params_\n",
    "    E_s_, E_w_, l_                        = energy_\n",
    "    pr_i_, pr_o_, cap_, rho_, eta_, beta_ = storage_\n",
    "    \n",
    "    # Get Sumulation Dimensions\n",
    "    N_s_zones, N_hours_per_year, N_years = E_s_.shape\n",
    "    N_w_zones, N_hours_per_year, N_years = E_w_.shape\n",
    "    #print(E_s_.shape, E_w_.shape, s_alpha_.shape, w_alpha_.shape)\n",
    "\n",
    "    # Vector Variables Initialization\n",
    "    l_net_ = np.zeros((N_hours_per_year*N_years, ))\n",
    "    b_net_ = np.zeros((N_hours_per_year*N_years, ))\n",
    "    h_net_ = np.zeros((N_hours_per_year*N_years, ))\n",
    "\n",
    "    b_soc_ = np.zeros((N_hours_per_year*N_years, ))\n",
    "    h_soc_ = np.zeros((N_hours_per_year*N_years, ))\n",
    "\n",
    "    b_Cap_ = np.zeros((N_hours_per_year*N_years, ))\n",
    "    h_Cap_ = np.zeros((N_hours_per_year*N_years, ))\n",
    "    \n",
    "    # Repeath year of load\n",
    "    l_prime_   = np.concatenate(([l_ for i in range(N_years)]), axis = 0)\n",
    "    E_s_prime_ = np.concatenate(([E_s_[..., i] for i in range(E_s_.shape[-1])]), axis = 1)\n",
    "    E_w_prime_ = np.concatenate(([E_w_[..., i] for i in range(E_w_.shape[-1])]), axis = 1)\n",
    "    #print(E_s_prime_.shape, E_w_prime_.shape)\n",
    "    \n",
    "    # Compute Hourly Renewable Energy Generation\n",
    "    e_s_ = s_alpha_.T @ E_s_prime_\n",
    "    e_w_ = w_alpha_.T @ E_w_prime_\n",
    "    #print(e_s_.shape, e_w_.shape)\n",
    "\n",
    "    # Loop over time instants\n",
    "    for i in range(N_hours_per_year*N_years):\n",
    "        \n",
    "        # Define Time as a loop\n",
    "        if i == 0: j = -1\n",
    "        else:      j = i - 1\n",
    "            \n",
    "        # Compute hourly net demand\n",
    "        l_net_[i] = l_prime_[i] - (e_s_[i] + e_w_[i])\n",
    "        \n",
    "        # Compute Batteries Charge/Discharge\n",
    "        b_net_[i], b_soc_[i], b_Cap_[i] = _storage_model(l_net_[i], b_soc_[j], pr_i_[0], pr_o_[0], cap_[0], rho_[0], eta_[0], beta_[0])\n",
    "        \n",
    "        # Compute Hydrogen Charge/Discharge\n",
    "        h_net_[i], h_soc_[i], h_Cap_[i] = _storage_model(b_net_[i], h_soc_[j], pr_i_[1], pr_o_[1], cap_[1], rho_[1], eta_[1], beta_[1])\n",
    "\n",
    "    # Reshape Similations to Hours x Year\n",
    "    E_s_ = np.around(e_s_.reshape(N_years, N_hours_per_year)).T\n",
    "    E_w_ = np.around(e_w_.reshape(N_years, N_hours_per_year)).T\n",
    "\n",
    "    L_net_ = np.around(l_net_.reshape(N_years, N_hours_per_year)).T\n",
    "    B_net_ = np.around(b_net_.reshape(N_years, N_hours_per_year)).T\n",
    "    H_net_ = np.around(h_net_.reshape(N_years, N_hours_per_year)).T\n",
    "    \n",
    "    B_soc_ = b_soc_.reshape(N_years, N_hours_per_year).T\n",
    "    H_soc_ = h_soc_.reshape(N_years, N_hours_per_year).T\n",
    "    \n",
    "    B_Cap_ = b_Cap_.reshape(N_years, N_hours_per_year).T\n",
    "    H_Cap_ = h_Cap_.reshape(N_years, N_hours_per_year).T\n",
    "    \n",
    "    return H_net_, H_soc_, H_Cap_\n",
    "\n",
    "# Expected Unserved Energy\n",
    "def _EUE(L_net_):\n",
    "    return L_net_[L_net_ > 0.].sum()/L_net_.shape[-1]\n",
    "\n",
    "# Loss-Of-Load Probability\n",
    "def _LOLP(L_net_):\n",
    "    N_hours_year, N_years = L_net_.shape\n",
    "    return 100.*(L_net_ > 0.).sum()/(N_hours_year*N_years)\n",
    "\n",
    "# Loss-Of-Load-Expectation\n",
    "def _LOLE(L_net_):\n",
    "    N_hours_year, N_years = L_net_.shape\n",
    "    N_days = int(N_hours_year/24)\n",
    "    L_net_prime_ = np.reshape(L_net_, (N_days, 24, N_years))\n",
    "    LOLE = 0.\n",
    "    for i in range(N_years):\n",
    "        for j in range(N_days):\n",
    "            if (L_net_prime_[j, :, i] > 0.).sum() > 0:\n",
    "                LOLE += 1.\n",
    "    return LOLE/N_years"
   ]
  },
  {
   "cell_type": "markdown",
   "id": "1deecfce-de6a-45b6-b5d1-7a48b794e305",
   "metadata": {},
   "source": [
    "Run simulations for a given set of paramters\n",
    "* (s_Cap_r) Fraction of the solar energy zones\n",
    "* (w_Cap_r) Fraction of the wind energy zones\n",
    "* (b_Cap_r) hydrogen hours of average india demand \n",
    "* (h_Cap_r) hydrogen hours of average india demand "
   ]
  },
  {
   "cell_type": "code",
   "execution_count": 111,
   "id": "c2b4ea53-5b03-43a4-8a11-63765ea7f0b9",
   "metadata": {},
   "outputs": [],
   "source": [
    "# David builts a for loop to simulate of the parametrs \n",
    "# Initialize Storage Varaibles\n",
    "\n",
    "\n",
    "# ------- Enter Simualtion Parameters ----------\n",
    "\n",
    "# Percentage of Solar Zones \n",
    "s_Cap_r = 1\n",
    "# Percentage of Wind Zones \n",
    "w_Cap_r = 1\n",
    "# Hours of demand in Battery Capacity\n",
    "b_Cap_r = 4.\n",
    "# Days of demand Hydrogen Capacity\n",
    "h_Cap_r = 0.\n",
    "\n",
    "# List of the Capacity Install for each source\n",
    "Cap_r_ = [s_Cap_r, w_Cap_r, b_Cap_r, h_Cap_r]\n",
    "\n",
    "# ------- Do Simulation ----------\n",
    "\n",
    "# Hourly Energy Generated by Solar and Wind Potential Zones\n",
    "energy_ = [E_s_, E_w_, l_]\n",
    "# Select Zones Uniformly\n",
    "s_Cap_ = np.ones(s_np_.shape)*s_Cap_r\n",
    "w_Cap_ = np.ones(w_np_.shape)*w_Cap_r\n",
    "# Compute Storage Design Specification given paramters\n",
    "Pr_i_, Pr_o_, Cap_ = _storage_capacity(l_, b_Cap_r, h_Cap_r, h_cr = 1., h_dr = 1.)\n",
    "storage_           = [Pr_i_, Pr_o_, Cap_, rho_, eta_, beta_]\n",
    "# Simulate System Operation\n",
    "H_net_1, H_soc_, H_Cap_ = _simulate_scenario(s_Cap_, w_Cap_, params_ = [energy_, storage_])\n",
    "\n",
    "# Get this in your system simulation storage variable\n",
    "\n",
    "# # ------- Evaluate Simualtion ----------\n",
    "\n",
    "# # Compute System Metrics\n",
    "# EUE  = _EUE(H_net_)\n",
    "# LOLP = _LOLP(H_net_)\n",
    "# LOLE = _LOLE(H_net_)\n",
    "# print(EUE, LOLP, LOLE)\n",
    "\n",
    "# # Get this in your metrics in storage variable\n",
    "\n",
    "# # ------- Compute Costs ----------\n",
    "\n",
    "# # Renewable Design Specification given paramters\n",
    "# s_Pr_o_    = s_np_.T @ s_Cap_\n",
    "# w_Pr_o_    = w_np_.T @ w_Cap_\n",
    "# renewable_ = [s_Pr_o_, w_Pr_o_]\n",
    "# print(renewable_)\n",
    "\n",
    "# # Batteries Design Specification given paramters\n",
    "# battery_ = [Cap_[0], Pr_i_[0], Pr_o_[0]]\n",
    "# print(battery_)\n",
    "\n",
    "# # Hydrogen Design Specification given paramters\n",
    "# hidrogen_ = [Cap_[1], Pr_i_[1], Pr_o_[1]]\n",
    "# print(hydrogen_)\n",
    "\n",
    "# # Compute System Costs\n",
    "# cost = _eval_system_cost(costs_, params_ = [renewable_, battery_, hydrogen_])\n",
    "# print(cost)\n",
    "\n",
    "# # Get your system Costs is a storage variable\n",
    "\n"
   ]
  },
  {
   "cell_type": "code",
   "execution_count": 116,
   "id": "d07acb74-6c5e-4381-a640-e273a008db06",
   "metadata": {},
   "outputs": [
    {
     "name": "stdout",
     "output_type": "stream",
     "text": [
      "(8760, 1)\n"
     ]
    }
   ],
   "source": [
    "H_net_1_prime = np.mean(H_net_1,axis =1)[:,np.newaxis]\n",
    "print(H_net_1_prime.shape)"
   ]
  },
  {
   "cell_type": "code",
   "execution_count": 117,
   "id": "9679e343-2b94-4bca-a27c-3a19211a256d",
   "metadata": {},
   "outputs": [
    {
     "data": {
      "image/png": "[encoded data removed]",
      "text/plain": [
       "<Figure size 1440x360 with 2 Axes>"
      ]
     },
     "metadata": {
      "needs_background": "light"
     },
     "output_type": "display_data"
    }
   ],
   "source": [
    "plt.figure(figsize = (20, 5))\n",
    "plt.imshow(H_net_1_prime.T, aspect = 'auto', interpolation = 'none', cmap = 'RdBu')\n",
    "plt.colorbar()\n",
    "plt.show()\n"
   ]
  },
  {
   "cell_type": "markdown",
   "id": "ec160137-e50b-4ebd-ac11-766d2ad611aa",
   "metadata": {},
   "source": [
    "# TestBed\n"
   ]
  },
  {
   "cell_type": "code",
   "execution_count": 128,
   "id": "b5c09a52-781d-483c-bd90-e04a5c27d3e9",
   "metadata": {},
   "outputs": [],
   "source": [
    "S_Cap_r_ = [0.,.25]   #,.50,.75,1]\n",
    "W_Cap_r_ = [0,.25]     #[0.,.25,.50,.75,1]\n",
    "B_Cap_r_  = [0.,1.]    #,2.,3.,4.,5.,6.]\n",
    "H_Cap_r_ = [0.,1.]     #,2.,3.,4.,5.,6.,.7]\n",
    "\n",
    "H_net_= []\n",
    "variables_ = []\n",
    "for i in range((len(S_Cap_r_))) :\n",
    "    for j in range(len(W_Cap_r_)) :\n",
    "        for k in range(len(B_Cap_r)) :\n",
    "            for l in range(len(H_Cap_r_)) :\n",
    "                energy_ = [E_s_, E_w_, l_]\n",
    "                # Select Zones Uniformly\n",
    "                s_Cap_ = np.ones(s_np_.shape)*S_Cap_r_[i]\n",
    "                w_Cap_ = np.ones(w_np_.shape)*W_Cap_r_[j]\n",
    "                # Compute Storage Design Specification given paramters\n",
    "                Pr_i_, Pr_o_, Cap_ = _storage_capacity(l_, B_Cap_r_[k], H_Cap_r_[l], h_cr = 1., h_dr = 1.)\n",
    "                storage_           = [Pr_i_, Pr_o_, Cap_, rho_, eta_, beta_]\n",
    "                # Simulate System Operation\n",
    "                H_net, H_soc, H_Cap = _simulate_scenario(s_Cap_, w_Cap_, params_ = [energy_, storage_])\n",
    "                H_net_.append(H_net)\n",
    "                variables_.append([S_Cap_r_[i],W_Cap_r_[j],B_Cap_r_[k],H_Cap_r_[l]])\n",
    "H_net_ = np.array(H_net_)"
   ]
  },
  {
   "cell_type": "code",
   "execution_count": 131,
   "id": "dc78d5e3-3b32-4331-b316-be00f7ca3aff",
   "metadata": {},
   "outputs": [
    {
     "name": "stdout",
     "output_type": "stream",
     "text": [
      "(16, 8760, 18)\n",
      "[[0.   0.   0.   0.  ]\n",
      " [0.   0.   0.   1.  ]\n",
      " [0.   0.   1.   0.  ]\n",
      " [0.   0.   1.   1.  ]\n",
      " [0.   0.25 0.   0.  ]\n",
      " [0.   0.25 0.   1.  ]\n",
      " [0.   0.25 1.   0.  ]\n",
      " [0.   0.25 1.   1.  ]\n",
      " [0.25 0.   0.   0.  ]\n",
      " [0.25 0.   0.   1.  ]\n",
      " [0.25 0.   1.   0.  ]\n",
      " [0.25 0.   1.   1.  ]\n",
      " [0.25 0.25 0.   0.  ]\n",
      " [0.25 0.25 0.   1.  ]\n",
      " [0.25 0.25 1.   0.  ]\n",
      " [0.25 0.25 1.   1.  ]]\n"
     ]
    }
   ],
   "source": [
    "print(H_net_.shape)\n",
    "H_net_prime_ = np.mean(H_net_,axis=2)\n",
    "H_net_prime_.shape\n",
    "\n",
    "print(np.array(variables_))"
   ]
  },
  {
   "cell_type": "code",
   "execution_count": 132,
   "id": "03cfbd1e-e73d-4b2d-a4da-80bfd9b6e294",
   "metadata": {},
   "outputs": [
    {
     "data": {
      "image/png": "[encoded data removed]",
      "text/plain": [
       "<Figure size 1440x360 with 2 Axes>"
      ]
     },
     "metadata": {
      "needs_background": "light"
     },
     "output_type": "display_data"
    }
   ],
   "source": [
    "plt.figure(figsize = (20, 5))\n",
    "plt.imshow(H_net_prime_, aspect = 'auto', interpolation = 'none', cmap = 'RdBu')\n",
    "plt.colorbar()\n",
    "plt.show()"
   ]
  },
  {
   "cell_type": "code",
   "execution_count": null,
   "id": "cd7a558b-24a6-4109-9146-a97e5a073fc4",
   "metadata": {},
   "outputs": [],
   "source": []
  }
 ],
 "metadata": {
  "kernelspec": {
   "display_name": "Python 3 (ipykernel)",
   "language": "python",
   "name": "python3"
  },
  "language_info": {
   "codemirror_mode": {
    "name": "ipython",
    "version": 3
   },
   "file_extension": ".py",
   "mimetype": "text/x-python",
   "name": "python",
   "nbconvert_exporter": "python",
   "pygments_lexer": "ipython3",
   "version": "3.8.13"
  }
 },
 "nbformat": 4,
 "nbformat_minor": 5
}
