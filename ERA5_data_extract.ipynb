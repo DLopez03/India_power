{
 "cells": [
  {
   "cell_type": "code",
   "execution_count": 3,
   "id": "b4a9dfdb-c7d2-4253-bcfe-2847fa2671ac",
   "metadata": {},
   "outputs": [],
   "source": [
    "import atlite\n",
    "import geopandas as gpd"
   ]
  },
  {
   "cell_type": "code",
   "execution_count": 4,
   "id": "ac17c904-af4f-4e2e-8235-62ab692efbba",
   "metadata": {},
   "outputs": [],
   "source": [
    "### USER INPUTS ###############################################################\n",
    "# Cutout directory\n",
    "saving_path_ = '/Users/dlopez/Desktop/india_power/'\n",
    "\n",
    "# Climate data\n",
    "climate_data = 'era5'\n",
    "\n",
    "country = 'India'\n",
    "\n",
    "# Timespan\n",
    "begin_year = 2017\n",
    "end_year   = 2017\n",
    "\n",
    "# create start and end time \n",
    "begin_date = str(begin_year) + r'-01'\n",
    "end_date   = str(end_year) + r'-12'"
   ]
  },
  {
   "cell_type": "code",
   "execution_count": 5,
   "id": "5e4e12b5-54da-41ba-873f-6339fa30b568",
   "metadata": {},
   "outputs": [
    {
     "name": "stdout",
     "output_type": "stream",
     "text": [
      "68.1766451353734 97.40256147663614 7.965534776232332 35.494009507787766\n",
      "India_2017_to_2017_era5\n"
     ]
    },
    {
     "name": "stderr",
     "output_type": "stream",
     "text": [
      "/Users/dlopez/opt/anaconda3/envs/py38/lib/python3.8/site-packages/geopandas/array.py:85: ShapelyDeprecationWarning: __len__ for multi-part geometries is deprecated and will be removed in Shapely 2.0. Check the length of the `geoms` property instead to get the  number of parts of a multi-part geometry.\n",
      "  aout[:] = out\n"
     ]
    }
   ],
   "source": [
    "geopandas_country = gpd.read_file(gpd.datasets.get_path('naturalearth_lowres')).set_index('name').reindex([country])\n",
    "\n",
    "x_1, y_1, x_2, y_2 = geopandas_country.unary_union.bounds\n",
    "print(x_1, x_2, y_1, y_2) # tells you the geometry of country \n",
    "\n",
    "file_name_ = country.replace(\" \", \"_\") + '_' + str(begin_year) + '_to_' + str(end_year) + '_' + climate_data\n",
    "print(file_name_)"
   ]
  },
  {
   "cell_type": "code",
   "execution_count": 6,
   "id": "c641cca5-023f-47d2-a5e4-9424779b7517",
   "metadata": {},
   "outputs": [
    {
     "name": "stdout",
     "output_type": "stream",
     "text": [
      "Processing: India\n",
      "/Users/dlopez/Desktop/india_power/India_2017_to_2017_era5.nc\n"
     ]
    }
   ],
   "source": [
    "print(\"Processing: \" + country)\n",
    "path_ = saving_path_ + file_name_ + '.nc'\n",
    "print(path_)"
   ]
  },
  {
   "cell_type": "code",
   "execution_count": null,
   "id": "e7f5d270-1e96-4821-97b1-86799635333e",
   "metadata": {
    "tags": []
   },
   "outputs": [
    {
     "name": "stderr",
     "output_type": "stream",
     "text": [
      "2022-07-13 11:15:42,399 INFO Requesting data for feature wind...\n",
      "2022-07-13 11:15:42,405 INFO Requesting data for feature runoff...\n",
      "2022-07-13 11:15:42,409 INFO Requesting data for feature influx...\n",
      "2022-07-13 11:15:42,416 INFO Requesting data for feature temperature...\n",
      "2022-07-13 11:15:46,317 INFO CDS: Downloading variables\n",
      "\t * geopotential (2017)\n",
      "\n",
      "2022-07-13 11:26:06,630 INFO CDS: Downloading variables                         \n",
      "\t * runoff (2017)\n",
      "\n",
      "                                                                                \r"
     ]
    }
   ],
   "source": [
    "\n",
    "_cutout = atlite.Cutout(path   = path_,\n",
    "                        module = climate_data,\n",
    "                        xs     = slice(x_1, x_2),\n",
    "                        ys     = slice(y_2, y_1),\n",
    "                        time   = slice(begin_date,end_date))\n",
    "\n",
    "_cutout.prepare()"
   ]
  },
  {
   "cell_type": "code",
   "execution_count": 3,
   "id": "c9359798-a2a5-41b9-a283-b3f82dd93416",
   "metadata": {},
   "outputs": [
    {
     "name": "stdout",
     "output_type": "stream",
     "text": [
      "Processing: India\n"
     ]
    },
    {
     "ename": "NameError",
     "evalue": "name 'gpd' is not defined",
     "output_type": "error",
     "traceback": [
      "\u001b[0;31m---------------------------------------------------------------------------\u001b[0m",
      "\u001b[0;31mNameError\u001b[0m                                 Traceback (most recent call last)",
      "Input \u001b[0;32mIn [3]\u001b[0m, in \u001b[0;36m<cell line: 2>\u001b[0;34m()\u001b[0m\n\u001b[1;32m      1\u001b[0m \u001b[38;5;28mprint\u001b[39m(\u001b[38;5;124m\"\u001b[39m\u001b[38;5;124mProcessing: \u001b[39m\u001b[38;5;124m\"\u001b[39m \u001b[38;5;241m+\u001b[39m country)\n\u001b[0;32m----> 2\u001b[0m \u001b[43mcutout_download\u001b[49m\u001b[43m(\u001b[49m\u001b[43mcountry\u001b[49m\u001b[43m,\u001b[49m\u001b[43m \u001b[49m\u001b[43mbegin_year\u001b[49m\u001b[43m,\u001b[49m\u001b[43m \u001b[49m\u001b[43mend_year\u001b[49m\u001b[43m,\u001b[49m\u001b[43m \u001b[49m\u001b[43mcutout_directory\u001b[49m\u001b[43m,\u001b[49m\u001b[43m \u001b[49m\u001b[43mclimate_data\u001b[49m\u001b[43m)\u001b[49m\n",
      "Input \u001b[0;32mIn [2]\u001b[0m, in \u001b[0;36mcutout_download\u001b[0;34m(country, begin_year, end_year, cutout_dir, input_climate_data)\u001b[0m\n\u001b[1;32m      1\u001b[0m \u001b[38;5;28;01mdef\u001b[39;00m \u001b[38;5;21mcutout_download\u001b[39m(country, begin_year, end_year, cutout_dir,\n\u001b[1;32m      2\u001b[0m                     input_climate_data):\n\u001b[0;32m----> 5\u001b[0m     geopandas_country \u001b[38;5;241m=\u001b[39m \u001b[43mgpd\u001b[49m\u001b[38;5;241m.\u001b[39mread_file(gpd\u001b[38;5;241m.\u001b[39mdatasets\u001b[38;5;241m.\u001b[39mget_path(\u001b[38;5;124m'\u001b[39m\u001b[38;5;124mnaturalearth_lowres\u001b[39m\u001b[38;5;124m'\u001b[39m))\u001b[38;5;241m.\u001b[39mset_index(\u001b[38;5;124m'\u001b[39m\u001b[38;5;124mname\u001b[39m\u001b[38;5;124m'\u001b[39m)\u001b[38;5;241m.\u001b[39mreindex([country])\n\u001b[1;32m      7\u001b[0m     x1, y1, x2, y2 \u001b[38;5;241m=\u001b[39m geopandas_country\u001b[38;5;241m.\u001b[39munary_union\u001b[38;5;241m.\u001b[39mbounds\n\u001b[1;32m      8\u001b[0m     \u001b[38;5;28mprint\u001b[39m(x1, x2, y1, y2) \u001b[38;5;66;03m#tells you the geometry of country \u001b[39;00m\n",
      "\u001b[0;31mNameError\u001b[0m: name 'gpd' is not defined"
     ]
    }
   ],
   "source": [
    "print(\"Processing: \" + country)\n",
    "cutout_download(country, begin_year, end_year, cutout_directory, climate_data)"
   ]
  },
  {
   "cell_type": "code",
   "execution_count": null,
   "id": "3a9639de-f792-472b-a938-39082678edbc",
   "metadata": {},
   "outputs": [],
   "source": [
    "\n",
    "def cutout_download(country, begin_year, end_year, cutout_dir,\n",
    "                    input_climate_data):\n",
    "\n",
    "    print(\"Processing: \" + country)\n",
    "\n",
    "    geopandas_country = gpd.read_file(gpd.datasets.get_path('naturalearth_lowres')).set_index('name').reindex([country])\n",
    "\n",
    "    x_1, y_1, x_2, y_2 = geopandas_country.unary_union.bounds\n",
    "    print(x_1, x_2, y_1, y_2) # tells you the geometry of country \n",
    "\n",
    "    file_name_ = country.replace(\" \", \"_\") + '_' + str(begin_year) + '_to_' + str(end_year) + '_' + climate_data\n",
    "\n",
    "\n",
    "    cutout_name = country.replace(\" \", \"_\") + '_' + str(begin_year) + \\\n",
    "                  '_to_' + str(end_year) + '_' + input_climate_data\n",
    "\n",
    "    ## Code for Atlite 0.02\n",
    "    # cutout = atlite.Cutout(\n",
    "    #                    name=cutout_name,\n",
    "    #                    cutout_dir=cutout_dir,\n",
    "    #                    module=input_climate_data,\n",
    "    #                    xs=slice(x1, x2),\n",
    "    #                    ys=slice(y2, y1),\n",
    "    #                    years=slice(begin_year, end_year),\n",
    "    #                    months=slice(1, 12))\n",
    "    #\n",
    "    # cutout.prepare()\n",
    "\n",
    "    ## Code for Atlite 0.2\n",
    "    cutout = atlite.Cutout(\n",
    "                       path=cutout_dir + cutout_name + '.nc',\n",
    "                       module=input_climate_data,\n",
    "                       xs=slice(x1, x2),\n",
    "                       ys=slice(y2, y1),\n",
    "                       time=slice(beginning_slice, ending_slice))\n",
    "\n",
    "    cutout.prepare()\n",
    "\n",
    "    cutout_download(countries_list, beginning_year, ending_year,\n",
    "            cutout_directory, climate_data)"
   ]
  },
  {
   "cell_type": "code",
   "execution_count": null,
   "id": "b860cac0-46cd-412a-a9eb-2473fbde7152",
   "metadata": {},
   "outputs": [],
   "source": []
  }
 ],
 "metadata": {
  "kernelspec": {
   "display_name": "Python [conda env:py38] *",
   "language": "python",
   "name": "conda-env-py38-py"
  },
  "language_info": {
   "codemirror_mode": {
    "name": "ipython",
    "version": 3
   },
   "file_extension": ".py",
   "mimetype": "text/x-python",
   "name": "python",
   "nbconvert_exporter": "python",
   "pygments_lexer": "ipython3",
   "version": "3.8.13"
  }
 },
 "nbformat": 4,
 "nbformat_minor": 5
}
