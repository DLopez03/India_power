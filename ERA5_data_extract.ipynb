{
 "cells": [
  {
   "cell_type": "code",
   "execution_count": 10,
   "id": "b4a9dfdb-c7d2-4253-bcfe-2847fa2671ac",
   "metadata": {},
   "outputs": [],
   "source": [
    "import atlite\n",
    "import geopandas as gpd\n",
    "# for file to work import .cdsapirc follow https://confluence.ecmwf.int/display/CKB/How+to+install+and+use+CDS+API+on+macOS\n",
    "import logging\n",
    "logging.basicConfig(level = logging.INFO)\n"
   ]
  },
  {
   "cell_type": "code",
   "execution_count": 11,
   "id": "ac17c904-af4f-4e2e-8235-62ab692efbba",
   "metadata": {},
   "outputs": [],
   "source": [
    "### USER INPUTS ###############################################################\n",
    "# Cutout directory\n",
    "saving_path_ = '/Users/dlopez/Desktop/india_power/'\n",
    "\n",
    "# Climate data\n",
    "climate_data = 'era5'\n",
    "\n",
    "country = 'India'\n",
    "\n",
    "# Timespan\n",
    "begin_year = 2017\n",
    "end_year   = 2017\n",
    "\n",
    "# create start and end time \n",
    "begin_date = str(begin_year) + r'-01'\n",
    "end_date   = str(end_year) + r'-12'"
   ]
  },
  {
   "cell_type": "code",
   "execution_count": null,
   "id": "3a9639de-f792-472b-a938-39082678edbc",
   "metadata": {},
   "outputs": [
    {
     "name": "stderr",
     "output_type": "stream",
     "text": [
      "/Users/dlopez/opt/anaconda3/envs/py38/lib/python3.8/site-packages/geopandas/array.py:85: ShapelyDeprecationWarning: __len__ for multi-part geometries is deprecated and will be removed in Shapely 2.0. Check the length of the `geoms` property instead to get the  number of parts of a multi-part geometry.\n",
      "  aout[:] = out\n",
      "2022-07-13 11:58:13,704 INFO Building new cutout /Users/dlopez/Desktop/india_power/India_2017-01_to_2017-12_era5.nc\n",
      "2022-07-13 11:58:13,753 INFO Storing temporary files in /var/folders/99/fl4_sjvj2px9bv5z1fjz0w600000gn/T/tmpkfzwxvip\n",
      "2022-07-13 11:58:13,759 INFO Calculating and writing with module era5:\n",
      "2022-07-13 11:58:13,782 INFO Requesting data for feature influx...\n",
      "2022-07-13 11:58:13,783 INFO Requesting data for feature temperature...\n",
      "2022-07-13 11:58:13,787 INFO Requesting data for feature runoff...\n",
      "2022-07-13 11:58:13,790 INFO Requesting data for feature height...\n",
      "2022-07-13 11:58:13,794 INFO Requesting data for feature wind...\n"
     ]
    },
    {
     "name": "stdout",
     "output_type": "stream",
     "text": [
      "Processing: India\n",
      "68.1766451353734 97.40256147663614 7.965534776232332 35.494009507787766\n"
     ]
    },
    {
     "name": "stderr",
     "output_type": "stream",
     "text": [
      "2022-07-13 11:58:14,922 INFO CDS: Downloading variables\n",
      "\t * geopotential (2017)\n",
      "\n",
      "2022-07-13 11:58:17,276 INFO CDS: Downloading variables                         \n",
      "\t * runoff (2017)\n",
      "\n",
      " 10%|████                                    | 21.6M/215M [01:55<24:28, 138kB/s]"
     ]
    }
   ],
   "source": [
    "path_ = saving_path_ + file_name_ + '.nc'\n",
    "def cutout_download(country, begin_year, end_year, cutout_dir,\n",
    "                    climate_data):\n",
    "\n",
    "    print(\"Processing: \" + country)\n",
    "\n",
    "    geopandas_country = gpd.read_file(gpd.datasets.get_path('naturalearth_lowres')).set_index('name').reindex([country])\n",
    "\n",
    "    x_1, y_1, x_2, y_2 = geopandas_country.unary_union.bounds\n",
    "    print(x_1, x_2, y_1, y_2) # tells you the geometry of country \n",
    "\n",
    "    file_name_ = country.replace(\" \", \"_\") + '_' + str(begin_year) + '_to_' + str(end_year) + '_' + climate_data\n",
    "\n",
    "\n",
    "    cutout_name = country.replace(\" \", \"_\") + '_' + str(begin_year) + \\\n",
    "                  '_to_' + str(end_year) + '_' + climate_data\n",
    "\n",
    "    cutout = atlite.Cutout(\n",
    "                       path=cutout_dir + cutout_name + '.nc',\n",
    "                       module=climate_data,\n",
    "                       xs=slice(x_1, x_2),\n",
    "                       ys=slice(y_2, y_1),\n",
    "                       time=slice(begin_year, end_year))\n",
    "\n",
    "    cutout.prepare()\n",
    "\n",
    "cutout_download(country, begin_date, end_date,\n",
    "            saving_path_, climate_data)"
   ]
  },
  {
   "cell_type": "code",
   "execution_count": null,
   "id": "b860cac0-46cd-412a-a9eb-2473fbde7152",
   "metadata": {},
   "outputs": [],
   "source": []
  }
 ],
 "metadata": {
  "kernelspec": {
   "display_name": "Python [conda env:py38] *",
   "language": "python",
   "name": "conda-env-py38-py"
  },
  "language_info": {
   "codemirror_mode": {
    "name": "ipython",
    "version": 3
   },
   "file_extension": ".py",
   "mimetype": "text/x-python",
   "name": "python",
   "nbconvert_exporter": "python",
   "pygments_lexer": "ipython3",
   "version": "3.8.13"
  }
 },
 "nbformat": 4,
 "nbformat_minor": 5
}
