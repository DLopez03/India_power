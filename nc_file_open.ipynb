{
 "cells": [
  {
   "cell_type": "code",
   "execution_count": 10,
   "id": "ea4783c4-8083-44a5-a46c-997641f3f345",
   "metadata": {},
   "outputs": [],
   "source": [
    "import netCDF4\n",
    "import numpy as np "
   ]
  },
  {
   "cell_type": "code",
   "execution_count": 11,
   "id": "3e1d07ba-9378-4bfa-864e-86e3bb333233",
   "metadata": {},
   "outputs": [
    {
     "name": "stdout",
     "output_type": "stream",
     "text": [
      "dict_keys(['x', 'y', 'time', 'lon', 'lat', 'height', 'wnd100m', 'wnd_azimuth', 'roughness', 'influx_toa', 'influx_direct', 'influx_diffuse', 'albedo', 'solar_altitude', 'solar_azimuth', 'temperature', 'soil temperature', 'runoff'])\n"
     ]
    }
   ],
   "source": [
    "nc_file = netCDF4.Dataset('India_2017_to_2018_era5.nc')\n",
    "print(nc_file.variables.keys()) # get all variable names"
   ]
  },
  {
   "cell_type": "code",
   "execution_count": 26,
   "id": "c7e11d2b-a287-4bb6-9e9c-e088a054a648",
   "metadata": {},
   "outputs": [
    {
     "name": "stdout",
     "output_type": "stream",
     "text": [
      "(110,)\n",
      "(117,)\n",
      "[ 8.    8.25  8.5   8.75  9.    9.25  9.5   9.75 10.   10.25 10.5  10.75\n",
      " 11.   11.25 11.5  11.75 12.   12.25 12.5  12.75 13.   13.25 13.5  13.75\n",
      " 14.   14.25 14.5  14.75 15.   15.25 15.5  15.75 16.   16.25 16.5  16.75\n",
      " 17.   17.25 17.5  17.75 18.   18.25 18.5  18.75 19.   19.25 19.5  19.75\n",
      " 20.   20.25 20.5  20.75 21.   21.25 21.5  21.75 22.   22.25 22.5  22.75\n",
      " 23.   23.25 23.5  23.75 24.   24.25 24.5  24.75 25.   25.25 25.5  25.75\n",
      " 26.   26.25 26.5  26.75 27.   27.25 27.5  27.75 28.   28.25 28.5  28.75\n",
      " 29.   29.25 29.5  29.75 30.   30.25 30.5  30.75 31.   31.25 31.5  31.75\n",
      " 32.   32.25 32.5  32.75 33.   33.25 33.5  33.75 34.   34.25 34.5  34.75\n",
      " 35.   35.25]\n",
      "[68.25 68.5  68.75 69.   69.25 69.5  69.75 70.   70.25 70.5  70.75 71.\n",
      " 71.25 71.5  71.75 72.   72.25 72.5  72.75 73.   73.25 73.5  73.75 74.\n",
      " 74.25 74.5  74.75 75.   75.25 75.5  75.75 76.   76.25 76.5  76.75 77.\n",
      " 77.25 77.5  77.75 78.   78.25 78.5  78.75 79.   79.25 79.5  79.75 80.\n",
      " 80.25 80.5  80.75 81.   81.25 81.5  81.75 82.   82.25 82.5  82.75 83.\n",
      " 83.25 83.5  83.75 84.   84.25 84.5  84.75 85.   85.25 85.5  85.75 86.\n",
      " 86.25 86.5  86.75 87.   87.25 87.5  87.75 88.   88.25 88.5  88.75 89.\n",
      " 89.25 89.5  89.75 90.   90.25 90.5  90.75 91.   91.25 91.5  91.75 92.\n",
      " 92.25 92.5  92.75 93.   93.25 93.5  93.75 94.   94.25 94.5  94.75 95.\n",
      " 95.25 95.5  95.75 96.   96.25 96.5  96.75 97.   97.25]\n"
     ]
    }
   ],
   "source": [
    "lat, lon = nc_file.variables['lat'], nc_file.variables['lon']\n",
    "print(lat.shape)\n",
    "print(lon.shape)\n",
    "print(lat[:])\n",
    "print(lon[:])"
   ]
  },
  {
   "cell_type": "code",
   "execution_count": 22,
   "id": "d06c3121-2b57-4b9a-b8f2-a3eca6aa94fe",
   "metadata": {},
   "outputs": [
    {
     "ename": "ValueError",
     "evalue": "operands could not be broadcast together with shapes (110,) (117,) ",
     "output_type": "error",
     "traceback": [
      "\u001b[0;31m---------------------------------------------------------------------------\u001b[0m",
      "\u001b[0;31mValueError\u001b[0m                                Traceback (most recent call last)",
      "Input \u001b[0;32mIn [22]\u001b[0m, in \u001b[0;36m<cell line: 15>\u001b[0;34m()\u001b[0m\n\u001b[1;32m     12\u001b[0m   \u001b[38;5;66;03m# Get 2D index for latvals and lonvals arrays from 1D index\u001b[39;00m\n\u001b[1;32m     13\u001b[0m   \u001b[38;5;28;01mreturn\u001b[39;00m np\u001b[38;5;241m.\u001b[39munravel_index(minindex_flattened, lats\u001b[38;5;241m.\u001b[39mshape)\n\u001b[0;32m---> 15\u001b[0m iy_min, ix_min \u001b[38;5;241m=\u001b[39m \u001b[43mgetclosest_ij\u001b[49m\u001b[43m(\u001b[49m\u001b[43mlat_val\u001b[49m\u001b[43m,\u001b[49m\u001b[43m \u001b[49m\u001b[43mlon_val\u001b[49m\u001b[43m,\u001b[49m\u001b[43m \u001b[49m\u001b[38;5;241;43m32\u001b[39;49m\u001b[43m,\u001b[49m\u001b[43m \u001b[49m\u001b[38;5;241;43m-\u001b[39;49m\u001b[38;5;241;43m10\u001b[39;49m\u001b[43m)\u001b[49m\n\u001b[1;32m     16\u001b[0m \u001b[38;5;28mprint\u001b[39m(iy_min)\n\u001b[1;32m     17\u001b[0m \u001b[38;5;28mprint\u001b[39m(ix_min)\n",
      "Input \u001b[0;32mIn [22]\u001b[0m, in \u001b[0;36mgetclosest_ij\u001b[0;34m(lats, lons, latpt, lonpt)\u001b[0m\n\u001b[1;32m      7\u001b[0m \u001b[38;5;28;01mdef\u001b[39;00m \u001b[38;5;21mgetclosest_ij\u001b[39m(lats,lons,latpt,lonpt):\n\u001b[1;32m      8\u001b[0m   \u001b[38;5;66;03m# find squared distance of every point on grid\u001b[39;00m\n\u001b[0;32m----> 9\u001b[0m   dist_sq \u001b[38;5;241m=\u001b[39m \u001b[43m(\u001b[49m\u001b[43mlats\u001b[49m\u001b[38;5;241;43m-\u001b[39;49m\u001b[43mlatpt\u001b[49m\u001b[43m)\u001b[49m\u001b[38;5;241;43m*\u001b[39;49m\u001b[38;5;241;43m*\u001b[39;49m\u001b[38;5;241;43m2\u001b[39;49m\u001b[43m \u001b[49m\u001b[38;5;241;43m+\u001b[39;49m\u001b[43m \u001b[49m\u001b[43m(\u001b[49m\u001b[43mlons\u001b[49m\u001b[38;5;241;43m-\u001b[39;49m\u001b[43mlonpt\u001b[49m\u001b[43m)\u001b[49m\u001b[38;5;241;43m*\u001b[39;49m\u001b[38;5;241;43m*\u001b[39;49m\u001b[38;5;241;43m2\u001b[39;49m\n\u001b[1;32m     10\u001b[0m   \u001b[38;5;66;03m# 1D index of minimum dist_sq element\u001b[39;00m\n\u001b[1;32m     11\u001b[0m   minindex_flattened \u001b[38;5;241m=\u001b[39m dist_sq\u001b[38;5;241m.\u001b[39margmin()\n",
      "File \u001b[0;32m~/opt/anaconda3/envs/py38/lib/python3.8/site-packages/numpy/ma/core.py:4141\u001b[0m, in \u001b[0;36mMaskedArray.__add__\u001b[0;34m(self, other)\u001b[0m\n\u001b[1;32m   4139\u001b[0m \u001b[38;5;28;01mif\u001b[39;00m \u001b[38;5;28mself\u001b[39m\u001b[38;5;241m.\u001b[39m_delegate_binop(other):\n\u001b[1;32m   4140\u001b[0m     \u001b[38;5;28;01mreturn\u001b[39;00m \u001b[38;5;28mNotImplemented\u001b[39m\n\u001b[0;32m-> 4141\u001b[0m \u001b[38;5;28;01mreturn\u001b[39;00m \u001b[43madd\u001b[49m\u001b[43m(\u001b[49m\u001b[38;5;28;43mself\u001b[39;49m\u001b[43m,\u001b[49m\u001b[43m \u001b[49m\u001b[43mother\u001b[49m\u001b[43m)\u001b[49m\n",
      "File \u001b[0;32m~/opt/anaconda3/envs/py38/lib/python3.8/site-packages/numpy/ma/core.py:1013\u001b[0m, in \u001b[0;36m_MaskedBinaryOperation.__call__\u001b[0;34m(self, a, b, *args, **kwargs)\u001b[0m\n\u001b[1;32m   1011\u001b[0m \u001b[38;5;28;01mwith\u001b[39;00m np\u001b[38;5;241m.\u001b[39merrstate():\n\u001b[1;32m   1012\u001b[0m     np\u001b[38;5;241m.\u001b[39mseterr(divide\u001b[38;5;241m=\u001b[39m\u001b[38;5;124m'\u001b[39m\u001b[38;5;124mignore\u001b[39m\u001b[38;5;124m'\u001b[39m, invalid\u001b[38;5;241m=\u001b[39m\u001b[38;5;124m'\u001b[39m\u001b[38;5;124mignore\u001b[39m\u001b[38;5;124m'\u001b[39m)\n\u001b[0;32m-> 1013\u001b[0m     result \u001b[38;5;241m=\u001b[39m \u001b[38;5;28;43mself\u001b[39;49m\u001b[38;5;241;43m.\u001b[39;49m\u001b[43mf\u001b[49m\u001b[43m(\u001b[49m\u001b[43mda\u001b[49m\u001b[43m,\u001b[49m\u001b[43m \u001b[49m\u001b[43mdb\u001b[49m\u001b[43m,\u001b[49m\u001b[43m \u001b[49m\u001b[38;5;241;43m*\u001b[39;49m\u001b[43margs\u001b[49m\u001b[43m,\u001b[49m\u001b[43m \u001b[49m\u001b[38;5;241;43m*\u001b[39;49m\u001b[38;5;241;43m*\u001b[39;49m\u001b[43mkwargs\u001b[49m\u001b[43m)\u001b[49m\n\u001b[1;32m   1014\u001b[0m \u001b[38;5;66;03m# Get the mask for the result\u001b[39;00m\n\u001b[1;32m   1015\u001b[0m (ma, mb) \u001b[38;5;241m=\u001b[39m (getmask(a), getmask(b))\n",
      "\u001b[0;31mValueError\u001b[0m: operands could not be broadcast together with shapes (110,) (117,) "
     ]
    }
   ],
   "source": [
    "# extract lat/lon values (in degrees) to numpy arrays\n",
    "lat_val = lat[:]\n",
    "lon_val = lon[:]\n",
    "\n",
    "# a function to find the index of the point closest pt\n",
    "# (in squared distance) to give lat/lon value.\n",
    "def getclosest_ij(lats,lons,latpt,lonpt):\n",
    "  # find squared distance of every point on grid\n",
    "  dist_sq = (lats-latpt)**2 + (lons-lonpt)**2\n",
    "  # 1D index of minimum dist_sq element\n",
    "  minindex_flattened = dist_sq.argmin()\n",
    "  # Get 2D index for latvals and lonvals arrays from 1D index\n",
    "  return np.unravel_index(minindex_flattened, lats.shape)\n",
    "\n",
    "iy_min, ix_min = getclosest_ij(lat_val, lon_val, 32, -10)\n",
    "print(iy_min)\n",
    "print(ix_min)"
   ]
  },
  {
   "cell_type": "code",
   "execution_count": null,
   "id": "b68894c7-ff75-471b-b0e1-37c5959768e8",
   "metadata": {},
   "outputs": [],
   "source": [
    "# sal = f.variables['salinity']\n",
    "# # Read values out of the netCDF file for temperature and salinity\n",
    "# print('%7.4f %s' % (temp[0,0,iy_min,ix_min], temp.units))\n",
    "# print('%7.4f %s' % (sal[0,0,iy_min,ix_min], sal.units))"
   ]
  },
  {
   "cell_type": "code",
   "execution_count": null,
   "id": "fa93d288-b741-4094-a2fe-761f400c481e",
   "metadata": {},
   "outputs": [],
   "source": []
  }
 ],
 "metadata": {
  "kernelspec": {
   "display_name": "Python [conda env:py38] *",
   "language": "python",
   "name": "conda-env-py38-py"
  },
  "language_info": {
   "codemirror_mode": {
    "name": "ipython",
    "version": 3
   },
   "file_extension": ".py",
   "mimetype": "text/x-python",
   "name": "python",
   "nbconvert_exporter": "python",
   "pygments_lexer": "ipython3",
   "version": "3.8.13"
  }
 },
 "nbformat": 4,
 "nbformat_minor": 5
}
